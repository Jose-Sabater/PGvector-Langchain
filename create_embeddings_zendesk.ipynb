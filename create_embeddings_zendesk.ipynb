{
 "cells": [
  {
   "cell_type": "code",
   "execution_count": null,
   "id": "94fcbbc0-724a-4c81-afd6-30bbe5166c6d",
   "metadata": {
    "collapsed": true,
    "jupyter": {
     "outputs_hidden": true
    },
    "tags": []
   },
   "outputs": [],
   "source": [
    "%pip install -r requirements.txt -q"
   ]
  },
  {
   "cell_type": "code",
   "execution_count": null,
   "id": "1424f77f-9036-466b-a185-f03ef8bc54ec",
   "metadata": {
    "collapsed": true,
    "jupyter": {
     "outputs_hidden": true
    },
    "tags": []
   },
   "outputs": [],
   "source": [
    "%pip install tiktoken -q"
   ]
  },
  {
   "cell_type": "markdown",
   "id": "37eff36d-4670-40c0-a8ac-0a42db0ce4af",
   "metadata": {},
   "source": [
    "# Create Vectorstore\n",
    "In this notebook we create a vectorstore in our existing Postgressql aurora serverless db.\n",
    "We will store Zendesk articles existing in our knowledge base. We will also build a way to track existing articles already stored.\n",
    "\n",
    "## Database Connection"
   ]
  },
  {
   "cell_type": "code",
   "execution_count": null,
   "id": "620a8a18-9b1b-4a24-98f8-39e2c4b9307b",
   "metadata": {
    "tags": []
   },
   "outputs": [],
   "source": [
    "from utils import db"
   ]
  },
  {
   "cell_type": "code",
   "execution_count": null,
   "id": "c33299a9-fe60-48ff-8e10-2250e9846b16",
   "metadata": {
    "tags": []
   },
   "outputs": [],
   "source": [
    "engine = db.engine"
   ]
  },
  {
   "cell_type": "markdown",
   "id": "c7dbb3c2-3c5b-48fc-aa10-d103c820de8d",
   "metadata": {},
   "source": [
    "## Get zendesk articles"
   ]
  },
  {
   "cell_type": "code",
   "execution_count": null,
   "id": "915fe811-d8fe-4e4a-ba72-f201e78ca36e",
   "metadata": {
    "tags": []
   },
   "outputs": [],
   "source": [
    "from utils.zendesk_articles import loader\n",
    "import json\n",
    "import pandas as pd"
   ]
  },
  {
   "cell_type": "code",
   "execution_count": null,
   "id": "efc073e9-8f7d-4260-9307-d2365ae77ec6",
   "metadata": {
    "tags": []
   },
   "outputs": [],
   "source": [
    "zendesk_loader = loader"
   ]
  },
  {
   "cell_type": "code",
   "execution_count": null,
   "id": "98ec4e4f",
   "metadata": {},
   "outputs": [],
   "source": [
    "documents = zendesk_loader.load()"
   ]
  },
  {
   "cell_type": "code",
   "execution_count": null,
   "id": "b0bb64a3-4bb5-4207-a1b6-7797478de73c",
   "metadata": {
    "tags": []
   },
   "outputs": [],
   "source": [
    "print(f\"Nr of articles in the knowledge base {len(documents)}\")\n",
    "documents[:2]"
   ]
  },
  {
   "cell_type": "markdown",
   "id": "4c2a0dec-6e0c-4e2c-a402-ab440b4ef459",
   "metadata": {
    "tags": []
   },
   "source": [
    "## Create a Log in the database about existing articles and latest updates\n",
    "1. Extract the article ID and the latest update date\n",
    "2. Store in a simple tracking table in RDS"
   ]
  },
  {
   "cell_type": "code",
   "execution_count": null,
   "id": "d2539c13-1815-49b8-9bbb-e7e3f6df30f1",
   "metadata": {
    "tags": []
   },
   "outputs": [],
   "source": [
    "metadata_list = [d.metadata for d in documents]\n",
    "metadata_list[:2]"
   ]
  },
  {
   "cell_type": "code",
   "execution_count": null,
   "id": "ce24191c-a62b-44f8-afa6-f4c5d466ba0b",
   "metadata": {
    "tags": []
   },
   "outputs": [],
   "source": [
    "md_df = pd.DataFrame(metadata_list)\n",
    "md_df[\"updated_at\"] = pd.to_datetime(md_df[\"updated_at\"])\n",
    "md_df.info(), md_df.head()"
   ]
  },
  {
   "cell_type": "code",
   "execution_count": null,
   "id": "53fea7a5-937b-4227-a04c-60dd94d6b5dc",
   "metadata": {
    "tags": []
   },
   "outputs": [],
   "source": [
    "#Store the tracking info\n",
    "try:\n",
    "    md_df.to_sql('zendesk_kb_tracker', con=engine, if_exists='append', index=False)\n",
    "    print(\"Data inserted successfully.\")\n",
    "except Exception as e:\n",
    "    print(f\"An error occurred: {e}\")"
   ]
  },
  {
   "cell_type": "markdown",
   "id": "795b1903-ea98-40c0-8f99-8eb0b92c204d",
   "metadata": {},
   "source": [
    "## Work with embeddings\n",
    "What is the size of our articles, do we chunk them?"
   ]
  },
  {
   "cell_type": "code",
   "execution_count": null,
   "id": "a36cf789-ac9a-46e8-915d-2d58e018f033",
   "metadata": {
    "tags": []
   },
   "outputs": [],
   "source": [
    "# Build a dataframe with the doc content and see the article length\n",
    "docs = [d.to_dict() for d in documents]\n",
    "doc_list = []\n",
    "for doc in docs:\n",
    "    d = {}\n",
    "    d[\"id\"] = doc[\"metadata\"].get(\"id\", \"\")\n",
    "    d[\"title\"] = doc[\"metadata\"].get(\"title\", \"\")\n",
    "    d[\"updated_at\"] = doc[\"metadata\"].get(\"updated_at\", \"\")\n",
    "    d[\"text\"] = doc.get(\"text\", \"\")\n",
    "    doc_list.append(d)\n",
    "doc_df = pd.DataFrame(doc_list)\n",
    "doc_df = doc_df.assign(text_len = doc_df[\"text\"].apply(lambda x: len(x.split())))\n",
    "doc_df\n",
    "                                          "
   ]
  },
  {
   "cell_type": "code",
   "execution_count": null,
   "id": "2847a4ee-87a4-4dc5-bba3-e8c0501e1a48",
   "metadata": {
    "tags": []
   },
   "outputs": [],
   "source": [
    "doc_df[\"text_len\"].max()"
   ]
  },
  {
   "cell_type": "markdown",
   "id": "9b6b3519-ee0f-4dc0-b591-a7dce86b23e5",
   "metadata": {},
   "source": [
    "# Embeddings"
   ]
  },
  {
   "cell_type": "code",
   "execution_count": null,
   "id": "91631899-ccbc-4c14-b3b7-81e11f9a1816",
   "metadata": {
    "tags": []
   },
   "outputs": [],
   "source": [
    "len(documents)"
   ]
  },
  {
   "cell_type": "code",
   "execution_count": null,
   "id": "a976ac3d-cc13-4ab3-8283-9bddd6487723",
   "metadata": {
    "tags": []
   },
   "outputs": [],
   "source": [
    "#Convert to langchain format\n",
    "docs = [doc.to_langchain_format() for doc in documents]\n",
    "print(len(docs))\n",
    "docs[0]"
   ]
  },
  {
   "cell_type": "code",
   "execution_count": null,
   "id": "5e50569a-a1ac-4597-806c-b28cab768561",
   "metadata": {
    "tags": []
   },
   "outputs": [],
   "source": [
    "import boto3\n",
    "import json\n",
    "import os\n",
    "import sys\n",
    "\n",
    "module_path = \"..\"\n",
    "sys.path.append(os.path.abspath(module_path))\n",
    "from utils import bedrock\n",
    "\n",
    "bedrock_client = bedrock.get_bedrock_client(\n",
    "    assumed_role=os.environ.get(\"BEDROCK_ASSUME_ROLE\", None),\n",
    "    region=\"eu-central-1\",\n",
    "    runtime=True # Default. Needed for invoke_model() from the data plane\n",
    ")"
   ]
  },
  {
   "cell_type": "code",
   "execution_count": null,
   "id": "ea6a80f5-f9de-4259-8ceb-35dfcc25a455",
   "metadata": {
    "tags": []
   },
   "outputs": [],
   "source": [
    "from utils.TokenCounterHandler import TokenCounterHandler\n",
    "\n",
    "token_counter = TokenCounterHandler()"
   ]
  },
  {
   "cell_type": "code",
   "execution_count": null,
   "id": "51d4457c-79f0-41f5-932f-af867dd4b3de",
   "metadata": {
    "tags": []
   },
   "outputs": [],
   "source": [
    "from langchain.embeddings import BedrockEmbeddings\n",
    "\n",
    "embeddings = BedrockEmbeddings(model_id=\"amazon.titan-embed-text-v1\",\n",
    "                               client=bedrock_client)"
   ]
  },
  {
   "cell_type": "code",
   "execution_count": null,
   "id": "9b27c854-78d5-45dc-b0e6-e80f188b42f1",
   "metadata": {
    "tags": []
   },
   "outputs": [],
   "source": [
    "from langchain_community.vectorstores.pgvector import PGVector"
   ]
  },
  {
   "cell_type": "code",
   "execution_count": null,
   "id": "475bd7d1-27ac-4449-97a5-8c1108aac38c",
   "metadata": {
    "tags": []
   },
   "outputs": [],
   "source": [
    "COLLECTION_NAME = \"zendesk_articles\""
   ]
  },
  {
   "cell_type": "markdown",
   "id": "b69538e7-dbaa-401a-9d1f-409029e65eba",
   "metadata": {},
   "source": [
    "## Create Vector Database"
   ]
  },
  {
   "cell_type": "code",
   "execution_count": null,
   "id": "9bb76c2f-1590-4c51-8605-ec40e942874c",
   "metadata": {
    "tags": []
   },
   "outputs": [],
   "source": [
    "db = PGVector.from_documents(\n",
    "    embedding=embeddings,\n",
    "    documents=docs,\n",
    "    collection_name=COLLECTION_NAME,\n",
    "    connection_string=db.connection_str,\n",
    ")"
   ]
  },
  {
   "cell_type": "markdown",
   "id": "1a758d90-e0d1-41be-952c-34e272c6141c",
   "metadata": {},
   "source": [
    "## If you already have a database, Load it instead"
   ]
  },
  {
   "cell_type": "code",
   "execution_count": null,
   "id": "02d0f31e-5fba-4614-8651-5b03d738dfdd",
   "metadata": {
    "tags": []
   },
   "outputs": [],
   "source": [
    "db =PGVector.from_existing_index(embedding=embeddings,collection_name=COLLECTION_NAME, connection_string=conn_string)"
   ]
  },
  {
   "cell_type": "markdown",
   "id": "2ffcb5ad-49f7-4a50-87c8-9bd25949ff91",
   "metadata": {},
   "source": [
    "## Test the retrieval mechanism"
   ]
  },
  {
   "cell_type": "code",
   "execution_count": null,
   "id": "6f1b7669-4311-4af9-82e1-23cf1002a45b",
   "metadata": {
    "tags": []
   },
   "outputs": [],
   "source": [
    "query =\"What do I need to do when I create a new case?\""
   ]
  },
  {
   "cell_type": "code",
   "execution_count": null,
   "id": "a003f6ec-bef4-4541-b000-06998af5988a",
   "metadata": {
    "tags": []
   },
   "outputs": [],
   "source": [
    "docs_with_score = db.similarity_search_with_score(query,k=2)"
   ]
  },
  {
   "cell_type": "code",
   "execution_count": null,
   "id": "08fa8b43-fd8a-4679-aeca-fb12d242aee1",
   "metadata": {
    "tags": []
   },
   "outputs": [],
   "source": [
    "for doc, score in docs_with_score:\n",
    "    print(\"-\" * 80)\n",
    "    print(\"Score: \", score)\n",
    "    print(doc.page_content)\n",
    "    print(\"-\" * 80)"
   ]
  },
  {
   "cell_type": "markdown",
   "id": "efbb1156-b742-4b5e-a5ca-371b33d7d12a",
   "metadata": {},
   "source": [
    "# Try Question answering\n",
    "Lets try a chain\n",
    "\n",
    "## First load a LLM"
   ]
  },
  {
   "cell_type": "code",
   "execution_count": null,
   "id": "ac0e5c26-cc40-4219-a98d-3760dc21d8a1",
   "metadata": {
    "tags": []
   },
   "outputs": [],
   "source": [
    "from langchain.llms.bedrock import Bedrock\n",
    "\n",
    "model_kwargs_claude = { \n",
    "        \"max_tokens_to_sample\": 512,\n",
    "        \"stop_sequences\": [],\n",
    "        \"temperature\":0,  \n",
    "        \"top_p\":0.5\n",
    "    }\n",
    "\n",
    "# Anthropic Claude Model\n",
    "llm = Bedrock(\n",
    "    model_id=\"anthropic.claude-v2\", \n",
    "    client=bedrock_client, \n",
    "    model_kwargs=model_kwargs_claude,\n",
    ")"
   ]
  },
  {
   "cell_type": "code",
   "execution_count": null,
   "id": "65214b39-79b3-4723-94b4-0fbf099bba3d",
   "metadata": {
    "tags": []
   },
   "outputs": [],
   "source": [
    "#Test\n",
    "llm.invoke(\"Whats up\")"
   ]
  },
  {
   "cell_type": "markdown",
   "id": "faebf7e5-9567-4db9-8d1c-02284e3d23bd",
   "metadata": {},
   "source": [
    "## Set retriever from the db"
   ]
  },
  {
   "cell_type": "code",
   "execution_count": null,
   "id": "1c6fa491-8080-40eb-b429-49ff2bc8dfa0",
   "metadata": {
    "tags": []
   },
   "outputs": [],
   "source": [
    "retriever =db.as_retriever(search_kwargs={\"k\": 2})"
   ]
  },
  {
   "cell_type": "code",
   "execution_count": null,
   "id": "2f9c70fe-f396-4208-9e0f-8c1a7cb33ed5",
   "metadata": {
    "tags": []
   },
   "outputs": [],
   "source": [
    "from langchain.chains import RetrievalQA\n",
    "\n",
    "qa = RetrievalQA.from_chain_type(\n",
    "    llm=llm,\n",
    "    chain_type=\"stuff\",\n",
    "    retriever=retriever,\n",
    "    return_source_documents=True,\n",
    "    callbacks=[token_counter]\n",
    ")"
   ]
  },
  {
   "cell_type": "code",
   "execution_count": null,
   "id": "3e8abb2d-6f69-4018-9ff4-955054544698",
   "metadata": {
    "tags": []
   },
   "outputs": [],
   "source": [
    "result = qa.invoke({\"query\": query})\n",
    "print(result['result'])\n",
    "\n",
    "print(f\"\\n{result['source_documents']}\")"
   ]
  },
  {
   "cell_type": "code",
   "execution_count": null,
   "id": "a5785454-b7d5-478d-87bc-e1de51dc2b38",
   "metadata": {
    "tags": []
   },
   "outputs": [],
   "source": [
    "result[\"result\"]"
   ]
  },
  {
   "cell_type": "code",
   "execution_count": null,
   "id": "05d97aff-81ae-4c64-9def-16886b3034f0",
   "metadata": {
    "tags": []
   },
   "outputs": [],
   "source": [
    "print(doc_df[doc_df[\"title\"]==\"Log in Issues\"][\"text\"].values[0])"
   ]
  },
  {
   "cell_type": "code",
   "execution_count": null,
   "id": "c61f6fca-f69a-4835-8db7-24b74033ea29",
   "metadata": {
    "tags": []
   },
   "outputs": [],
   "source": [
    "query = \"I have problems with my registration, what are the steps I need to follow?\"\n",
    "result = qa.invoke({\"query\": query})\n",
    "print(result['result'])\n",
    "print(f\"\\n{result['source_documents']}\")"
   ]
  }
 ],
 "metadata": {
  "availableInstances": [
   {
    "_defaultOrder": 0,
    "_isFastLaunch": true,
    "category": "General purpose",
    "gpuNum": 0,
    "hideHardwareSpecs": false,
    "memoryGiB": 4,
    "name": "ml.t3.medium",
    "vcpuNum": 2
   },
   {
    "_defaultOrder": 1,
    "_isFastLaunch": false,
    "category": "General purpose",
    "gpuNum": 0,
    "hideHardwareSpecs": false,
    "memoryGiB": 8,
    "name": "ml.t3.large",
    "vcpuNum": 2
   },
   {
    "_defaultOrder": 2,
    "_isFastLaunch": false,
    "category": "General purpose",
    "gpuNum": 0,
    "hideHardwareSpecs": false,
    "memoryGiB": 16,
    "name": "ml.t3.xlarge",
    "vcpuNum": 4
   },
   {
    "_defaultOrder": 3,
    "_isFastLaunch": false,
    "category": "General purpose",
    "gpuNum": 0,
    "hideHardwareSpecs": false,
    "memoryGiB": 32,
    "name": "ml.t3.2xlarge",
    "vcpuNum": 8
   },
   {
    "_defaultOrder": 4,
    "_isFastLaunch": true,
    "category": "General purpose",
    "gpuNum": 0,
    "hideHardwareSpecs": false,
    "memoryGiB": 8,
    "name": "ml.m5.large",
    "vcpuNum": 2
   },
   {
    "_defaultOrder": 5,
    "_isFastLaunch": false,
    "category": "General purpose",
    "gpuNum": 0,
    "hideHardwareSpecs": false,
    "memoryGiB": 16,
    "name": "ml.m5.xlarge",
    "vcpuNum": 4
   },
   {
    "_defaultOrder": 6,
    "_isFastLaunch": false,
    "category": "General purpose",
    "gpuNum": 0,
    "hideHardwareSpecs": false,
    "memoryGiB": 32,
    "name": "ml.m5.2xlarge",
    "vcpuNum": 8
   },
   {
    "_defaultOrder": 7,
    "_isFastLaunch": false,
    "category": "General purpose",
    "gpuNum": 0,
    "hideHardwareSpecs": false,
    "memoryGiB": 64,
    "name": "ml.m5.4xlarge",
    "vcpuNum": 16
   },
   {
    "_defaultOrder": 8,
    "_isFastLaunch": false,
    "category": "General purpose",
    "gpuNum": 0,
    "hideHardwareSpecs": false,
    "memoryGiB": 128,
    "name": "ml.m5.8xlarge",
    "vcpuNum": 32
   },
   {
    "_defaultOrder": 9,
    "_isFastLaunch": false,
    "category": "General purpose",
    "gpuNum": 0,
    "hideHardwareSpecs": false,
    "memoryGiB": 192,
    "name": "ml.m5.12xlarge",
    "vcpuNum": 48
   },
   {
    "_defaultOrder": 10,
    "_isFastLaunch": false,
    "category": "General purpose",
    "gpuNum": 0,
    "hideHardwareSpecs": false,
    "memoryGiB": 256,
    "name": "ml.m5.16xlarge",
    "vcpuNum": 64
   },
   {
    "_defaultOrder": 11,
    "_isFastLaunch": false,
    "category": "General purpose",
    "gpuNum": 0,
    "hideHardwareSpecs": false,
    "memoryGiB": 384,
    "name": "ml.m5.24xlarge",
    "vcpuNum": 96
   },
   {
    "_defaultOrder": 12,
    "_isFastLaunch": false,
    "category": "General purpose",
    "gpuNum": 0,
    "hideHardwareSpecs": false,
    "memoryGiB": 8,
    "name": "ml.m5d.large",
    "vcpuNum": 2
   },
   {
    "_defaultOrder": 13,
    "_isFastLaunch": false,
    "category": "General purpose",
    "gpuNum": 0,
    "hideHardwareSpecs": false,
    "memoryGiB": 16,
    "name": "ml.m5d.xlarge",
    "vcpuNum": 4
   },
   {
    "_defaultOrder": 14,
    "_isFastLaunch": false,
    "category": "General purpose",
    "gpuNum": 0,
    "hideHardwareSpecs": false,
    "memoryGiB": 32,
    "name": "ml.m5d.2xlarge",
    "vcpuNum": 8
   },
   {
    "_defaultOrder": 15,
    "_isFastLaunch": false,
    "category": "General purpose",
    "gpuNum": 0,
    "hideHardwareSpecs": false,
    "memoryGiB": 64,
    "name": "ml.m5d.4xlarge",
    "vcpuNum": 16
   },
   {
    "_defaultOrder": 16,
    "_isFastLaunch": false,
    "category": "General purpose",
    "gpuNum": 0,
    "hideHardwareSpecs": false,
    "memoryGiB": 128,
    "name": "ml.m5d.8xlarge",
    "vcpuNum": 32
   },
   {
    "_defaultOrder": 17,
    "_isFastLaunch": false,
    "category": "General purpose",
    "gpuNum": 0,
    "hideHardwareSpecs": false,
    "memoryGiB": 192,
    "name": "ml.m5d.12xlarge",
    "vcpuNum": 48
   },
   {
    "_defaultOrder": 18,
    "_isFastLaunch": false,
    "category": "General purpose",
    "gpuNum": 0,
    "hideHardwareSpecs": false,
    "memoryGiB": 256,
    "name": "ml.m5d.16xlarge",
    "vcpuNum": 64
   },
   {
    "_defaultOrder": 19,
    "_isFastLaunch": false,
    "category": "General purpose",
    "gpuNum": 0,
    "hideHardwareSpecs": false,
    "memoryGiB": 384,
    "name": "ml.m5d.24xlarge",
    "vcpuNum": 96
   },
   {
    "_defaultOrder": 20,
    "_isFastLaunch": false,
    "category": "General purpose",
    "gpuNum": 0,
    "hideHardwareSpecs": true,
    "memoryGiB": 0,
    "name": "ml.geospatial.interactive",
    "supportedImageNames": [
     "sagemaker-geospatial-v1-0"
    ],
    "vcpuNum": 0
   },
   {
    "_defaultOrder": 21,
    "_isFastLaunch": true,
    "category": "Compute optimized",
    "gpuNum": 0,
    "hideHardwareSpecs": false,
    "memoryGiB": 4,
    "name": "ml.c5.large",
    "vcpuNum": 2
   },
   {
    "_defaultOrder": 22,
    "_isFastLaunch": false,
    "category": "Compute optimized",
    "gpuNum": 0,
    "hideHardwareSpecs": false,
    "memoryGiB": 8,
    "name": "ml.c5.xlarge",
    "vcpuNum": 4
   },
   {
    "_defaultOrder": 23,
    "_isFastLaunch": false,
    "category": "Compute optimized",
    "gpuNum": 0,
    "hideHardwareSpecs": false,
    "memoryGiB": 16,
    "name": "ml.c5.2xlarge",
    "vcpuNum": 8
   },
   {
    "_defaultOrder": 24,
    "_isFastLaunch": false,
    "category": "Compute optimized",
    "gpuNum": 0,
    "hideHardwareSpecs": false,
    "memoryGiB": 32,
    "name": "ml.c5.4xlarge",
    "vcpuNum": 16
   },
   {
    "_defaultOrder": 25,
    "_isFastLaunch": false,
    "category": "Compute optimized",
    "gpuNum": 0,
    "hideHardwareSpecs": false,
    "memoryGiB": 72,
    "name": "ml.c5.9xlarge",
    "vcpuNum": 36
   },
   {
    "_defaultOrder": 26,
    "_isFastLaunch": false,
    "category": "Compute optimized",
    "gpuNum": 0,
    "hideHardwareSpecs": false,
    "memoryGiB": 96,
    "name": "ml.c5.12xlarge",
    "vcpuNum": 48
   },
   {
    "_defaultOrder": 27,
    "_isFastLaunch": false,
    "category": "Compute optimized",
    "gpuNum": 0,
    "hideHardwareSpecs": false,
    "memoryGiB": 144,
    "name": "ml.c5.18xlarge",
    "vcpuNum": 72
   },
   {
    "_defaultOrder": 28,
    "_isFastLaunch": false,
    "category": "Compute optimized",
    "gpuNum": 0,
    "hideHardwareSpecs": false,
    "memoryGiB": 192,
    "name": "ml.c5.24xlarge",
    "vcpuNum": 96
   },
   {
    "_defaultOrder": 29,
    "_isFastLaunch": true,
    "category": "Accelerated computing",
    "gpuNum": 1,
    "hideHardwareSpecs": false,
    "memoryGiB": 16,
    "name": "ml.g4dn.xlarge",
    "vcpuNum": 4
   },
   {
    "_defaultOrder": 30,
    "_isFastLaunch": false,
    "category": "Accelerated computing",
    "gpuNum": 1,
    "hideHardwareSpecs": false,
    "memoryGiB": 32,
    "name": "ml.g4dn.2xlarge",
    "vcpuNum": 8
   },
   {
    "_defaultOrder": 31,
    "_isFastLaunch": false,
    "category": "Accelerated computing",
    "gpuNum": 1,
    "hideHardwareSpecs": false,
    "memoryGiB": 64,
    "name": "ml.g4dn.4xlarge",
    "vcpuNum": 16
   },
   {
    "_defaultOrder": 32,
    "_isFastLaunch": false,
    "category": "Accelerated computing",
    "gpuNum": 1,
    "hideHardwareSpecs": false,
    "memoryGiB": 128,
    "name": "ml.g4dn.8xlarge",
    "vcpuNum": 32
   },
   {
    "_defaultOrder": 33,
    "_isFastLaunch": false,
    "category": "Accelerated computing",
    "gpuNum": 4,
    "hideHardwareSpecs": false,
    "memoryGiB": 192,
    "name": "ml.g4dn.12xlarge",
    "vcpuNum": 48
   },
   {
    "_defaultOrder": 34,
    "_isFastLaunch": false,
    "category": "Accelerated computing",
    "gpuNum": 1,
    "hideHardwareSpecs": false,
    "memoryGiB": 256,
    "name": "ml.g4dn.16xlarge",
    "vcpuNum": 64
   },
   {
    "_defaultOrder": 35,
    "_isFastLaunch": false,
    "category": "Accelerated computing",
    "gpuNum": 1,
    "hideHardwareSpecs": false,
    "memoryGiB": 61,
    "name": "ml.p3.2xlarge",
    "vcpuNum": 8
   },
   {
    "_defaultOrder": 36,
    "_isFastLaunch": false,
    "category": "Accelerated computing",
    "gpuNum": 4,
    "hideHardwareSpecs": false,
    "memoryGiB": 244,
    "name": "ml.p3.8xlarge",
    "vcpuNum": 32
   },
   {
    "_defaultOrder": 37,
    "_isFastLaunch": false,
    "category": "Accelerated computing",
    "gpuNum": 8,
    "hideHardwareSpecs": false,
    "memoryGiB": 488,
    "name": "ml.p3.16xlarge",
    "vcpuNum": 64
   },
   {
    "_defaultOrder": 38,
    "_isFastLaunch": false,
    "category": "Accelerated computing",
    "gpuNum": 8,
    "hideHardwareSpecs": false,
    "memoryGiB": 768,
    "name": "ml.p3dn.24xlarge",
    "vcpuNum": 96
   },
   {
    "_defaultOrder": 39,
    "_isFastLaunch": false,
    "category": "Memory Optimized",
    "gpuNum": 0,
    "hideHardwareSpecs": false,
    "memoryGiB": 16,
    "name": "ml.r5.large",
    "vcpuNum": 2
   },
   {
    "_defaultOrder": 40,
    "_isFastLaunch": false,
    "category": "Memory Optimized",
    "gpuNum": 0,
    "hideHardwareSpecs": false,
    "memoryGiB": 32,
    "name": "ml.r5.xlarge",
    "vcpuNum": 4
   },
   {
    "_defaultOrder": 41,
    "_isFastLaunch": false,
    "category": "Memory Optimized",
    "gpuNum": 0,
    "hideHardwareSpecs": false,
    "memoryGiB": 64,
    "name": "ml.r5.2xlarge",
    "vcpuNum": 8
   },
   {
    "_defaultOrder": 42,
    "_isFastLaunch": false,
    "category": "Memory Optimized",
    "gpuNum": 0,
    "hideHardwareSpecs": false,
    "memoryGiB": 128,
    "name": "ml.r5.4xlarge",
    "vcpuNum": 16
   },
   {
    "_defaultOrder": 43,
    "_isFastLaunch": false,
    "category": "Memory Optimized",
    "gpuNum": 0,
    "hideHardwareSpecs": false,
    "memoryGiB": 256,
    "name": "ml.r5.8xlarge",
    "vcpuNum": 32
   },
   {
    "_defaultOrder": 44,
    "_isFastLaunch": false,
    "category": "Memory Optimized",
    "gpuNum": 0,
    "hideHardwareSpecs": false,
    "memoryGiB": 384,
    "name": "ml.r5.12xlarge",
    "vcpuNum": 48
   },
   {
    "_defaultOrder": 45,
    "_isFastLaunch": false,
    "category": "Memory Optimized",
    "gpuNum": 0,
    "hideHardwareSpecs": false,
    "memoryGiB": 512,
    "name": "ml.r5.16xlarge",
    "vcpuNum": 64
   },
   {
    "_defaultOrder": 46,
    "_isFastLaunch": false,
    "category": "Memory Optimized",
    "gpuNum": 0,
    "hideHardwareSpecs": false,
    "memoryGiB": 768,
    "name": "ml.r5.24xlarge",
    "vcpuNum": 96
   },
   {
    "_defaultOrder": 47,
    "_isFastLaunch": false,
    "category": "Accelerated computing",
    "gpuNum": 1,
    "hideHardwareSpecs": false,
    "memoryGiB": 16,
    "name": "ml.g5.xlarge",
    "vcpuNum": 4
   },
   {
    "_defaultOrder": 48,
    "_isFastLaunch": false,
    "category": "Accelerated computing",
    "gpuNum": 1,
    "hideHardwareSpecs": false,
    "memoryGiB": 32,
    "name": "ml.g5.2xlarge",
    "vcpuNum": 8
   },
   {
    "_defaultOrder": 49,
    "_isFastLaunch": false,
    "category": "Accelerated computing",
    "gpuNum": 1,
    "hideHardwareSpecs": false,
    "memoryGiB": 64,
    "name": "ml.g5.4xlarge",
    "vcpuNum": 16
   },
   {
    "_defaultOrder": 50,
    "_isFastLaunch": false,
    "category": "Accelerated computing",
    "gpuNum": 1,
    "hideHardwareSpecs": false,
    "memoryGiB": 128,
    "name": "ml.g5.8xlarge",
    "vcpuNum": 32
   },
   {
    "_defaultOrder": 51,
    "_isFastLaunch": false,
    "category": "Accelerated computing",
    "gpuNum": 1,
    "hideHardwareSpecs": false,
    "memoryGiB": 256,
    "name": "ml.g5.16xlarge",
    "vcpuNum": 64
   },
   {
    "_defaultOrder": 52,
    "_isFastLaunch": false,
    "category": "Accelerated computing",
    "gpuNum": 4,
    "hideHardwareSpecs": false,
    "memoryGiB": 192,
    "name": "ml.g5.12xlarge",
    "vcpuNum": 48
   },
   {
    "_defaultOrder": 53,
    "_isFastLaunch": false,
    "category": "Accelerated computing",
    "gpuNum": 4,
    "hideHardwareSpecs": false,
    "memoryGiB": 384,
    "name": "ml.g5.24xlarge",
    "vcpuNum": 96
   },
   {
    "_defaultOrder": 54,
    "_isFastLaunch": false,
    "category": "Accelerated computing",
    "gpuNum": 8,
    "hideHardwareSpecs": false,
    "memoryGiB": 768,
    "name": "ml.g5.48xlarge",
    "vcpuNum": 192
   },
   {
    "_defaultOrder": 55,
    "_isFastLaunch": false,
    "category": "Accelerated computing",
    "gpuNum": 8,
    "hideHardwareSpecs": false,
    "memoryGiB": 1152,
    "name": "ml.p4d.24xlarge",
    "vcpuNum": 96
   },
   {
    "_defaultOrder": 56,
    "_isFastLaunch": false,
    "category": "Accelerated computing",
    "gpuNum": 8,
    "hideHardwareSpecs": false,
    "memoryGiB": 1152,
    "name": "ml.p4de.24xlarge",
    "vcpuNum": 96
   },
   {
    "_defaultOrder": 57,
    "_isFastLaunch": false,
    "category": "Accelerated computing",
    "gpuNum": 0,
    "hideHardwareSpecs": false,
    "memoryGiB": 32,
    "name": "ml.trn1.2xlarge",
    "vcpuNum": 8
   },
   {
    "_defaultOrder": 58,
    "_isFastLaunch": false,
    "category": "Accelerated computing",
    "gpuNum": 0,
    "hideHardwareSpecs": false,
    "memoryGiB": 512,
    "name": "ml.trn1.32xlarge",
    "vcpuNum": 128
   },
   {
    "_defaultOrder": 59,
    "_isFastLaunch": false,
    "category": "Accelerated computing",
    "gpuNum": 0,
    "hideHardwareSpecs": false,
    "memoryGiB": 512,
    "name": "ml.trn1n.32xlarge",
    "vcpuNum": 128
   }
  ],
  "instance_type": "ml.m5.large",
  "kernelspec": {
   "display_name": "Python 3 (Data Science 3.0)",
   "language": "python",
   "name": "python3__SAGEMAKER_INTERNAL__arn:aws:sagemaker:eu-west-1:470317259841:image/sagemaker-data-science-310-v1"
  },
  "language_info": {
   "codemirror_mode": {
    "name": "ipython",
    "version": 3
   },
   "file_extension": ".py",
   "mimetype": "text/x-python",
   "name": "python",
   "nbconvert_exporter": "python",
   "pygments_lexer": "ipython3",
   "version": "3.10.6"
  }
 },
 "nbformat": 4,
 "nbformat_minor": 5
}
